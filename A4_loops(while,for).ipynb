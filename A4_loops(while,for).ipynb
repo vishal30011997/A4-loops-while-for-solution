{
 "cells": [
  {
   "cell_type": "markdown",
   "id": "fe53ebfe-70a8-4da0-8bb0-756113541402",
   "metadata": {},
   "source": [
    "A4 : Loops (While, For) solution Date : 04/03/2024"
   ]
  },
  {
   "cell_type": "code",
   "execution_count": null,
   "id": "42d0e916-dad4-404f-8fd9-6f9d88485950",
   "metadata": {},
   "outputs": [],
   "source": [
    "Q1. Print number from 1 to 5 using a while loop."
   ]
  },
  {
   "cell_type": "code",
   "execution_count": 2,
   "id": "58449111-6da9-42ed-895e-10fd354b7184",
   "metadata": {},
   "outputs": [
    {
     "name": "stdout",
     "output_type": "stream",
     "text": [
      "1\n",
      "2\n",
      "3\n",
      "4\n",
      "5\n"
     ]
    }
   ],
   "source": [
    "# solution\n",
    "num1 = 1\n",
    "num2 = 5\n",
    "while (num1 <= num2) :\n",
    "    print(num1)\n",
    "    num1 += 1"
   ]
  },
  {
   "cell_type": "markdown",
   "id": "684fcab2-4980-4be2-bef7-1ad2b78a29d4",
   "metadata": {},
   "source": [
    "Q2. Calculate the sum of number from 1 to 10 using a while loop."
   ]
  },
  {
   "cell_type": "code",
   "execution_count": 3,
   "id": "a054624e-8cee-45f1-835a-c1a5bb598081",
   "metadata": {},
   "outputs": [
    {
     "name": "stdout",
     "output_type": "stream",
     "text": [
      "sum of the numbers between 1 to 10 :  55\n"
     ]
    }
   ],
   "source": [
    "# solution\n",
    "num1 = 1\n",
    "num2 = 10\n",
    "num3 = 0\n",
    "while(num1 <= num2):\n",
    "    num3 += num1\n",
    "    num1 += 1\n",
    "print(\"sum of the numbers between 1 to 10 : \" ,num3)      "
   ]
  },
  {
   "cell_type": "markdown",
   "id": "a403e4d3-0809-473b-8a5e-fffca44a2719",
   "metadata": {},
   "source": [
    "Q3. Calculate the factorial of a number using a for loop."
   ]
  },
  {
   "cell_type": "code",
   "execution_count": 7,
   "id": "4adbd616-86a3-484f-8276-536650ecb3a2",
   "metadata": {},
   "outputs": [
    {
     "name": "stdin",
     "output_type": "stream",
     "text": [
      "Enter a number :   5\n"
     ]
    },
    {
     "name": "stdout",
     "output_type": "stream",
     "text": [
      "factorial of a number is : 120\n"
     ]
    }
   ],
   "source": [
    "# solution\n",
    "num = int(input(\"Enter a number :  \"))\n",
    "fact = 1\n",
    "for i in range(1, num+1):\n",
    "    fact *= i\n",
    "print(\"factorial of a number is :\",fact)    "
   ]
  },
  {
   "cell_type": "markdown",
   "id": "277582c6-45e7-47cf-b210-2877ace397d4",
   "metadata": {},
   "source": [
    "Q4. Count the number of vowel in a string using a for loop."
   ]
  },
  {
   "cell_type": "code",
   "execution_count": 10,
   "id": "f9e59352-08c0-4ba5-a2ee-1f78e0df4b85",
   "metadata": {},
   "outputs": [
    {
     "name": "stdin",
     "output_type": "stream",
     "text": [
      "Enter a string :  Deep Narayan Singh\n"
     ]
    },
    {
     "name": "stdout",
     "output_type": "stream",
     "text": [
      "number of vowel in the given string is :  6\n"
     ]
    }
   ],
   "source": [
    "# solution\n",
    "s = str(input(\"Enter a string : \"))\n",
    "count = 0\n",
    "for i in s: \n",
    "    if (i==\"a\")|(i==\"e\")|(i==\"i\")|(i==\"o\")|(i==\"u\"):\n",
    "        count += 1\n",
    "print(\"number of vowel in the given string is : \",count)        "
   ]
  },
  {
   "cell_type": "markdown",
   "id": "aa43704c-0f59-4156-8050-41888071086d",
   "metadata": {},
   "source": [
    "Q5. Print a pattern using nested loop."
   ]
  },
  {
   "cell_type": "code",
   "execution_count": 5,
   "id": "3eaca859-b5a2-4107-b1c8-13c74fc91483",
   "metadata": {},
   "outputs": [
    {
     "name": "stdin",
     "output_type": "stream",
     "text": [
      "Enter number of row :  5\n"
     ]
    },
    {
     "name": "stdout",
     "output_type": "stream",
     "text": [
      "* \n",
      "* * \n",
      "* * * \n",
      "* * * * \n",
      "* * * * * \n"
     ]
    }
   ],
   "source": [
    "# solution\n",
    "num = int(input(\"Enter number of row : \"))\n",
    "for i in range(1, num+1):\n",
    "    for j in range(1, i+1):\n",
    "        print(\"*\", end = \" \")\n",
    "    print()   "
   ]
  },
  {
   "cell_type": "markdown",
   "id": "45a3b1b5-7a1c-4025-9188-b5f285f0d279",
   "metadata": {},
   "source": [
    "Q6. Generate a multiplication table using nested loop."
   ]
  },
  {
   "cell_type": "code",
   "execution_count": 8,
   "id": "54511e15-4f48-400f-b4ac-f314dad50b87",
   "metadata": {},
   "outputs": [
    {
     "name": "stdin",
     "output_type": "stream",
     "text": [
      "Enter a number for a table :  5\n"
     ]
    },
    {
     "name": "stdout",
     "output_type": "stream",
     "text": [
      "5 * 1 = 5\n",
      "5 * 2 = 10\n",
      "5 * 3 = 15\n",
      "5 * 4 = 20\n",
      "5 * 5 = 25\n",
      "5 * 6 = 30\n",
      "5 * 7 = 35\n",
      "5 * 8 = 40\n",
      "5 * 9 = 45\n",
      "5 * 10 = 50\n"
     ]
    }
   ],
   "source": [
    "# solution\n",
    "num = int(input(\"Enter a number for a table : \"))\n",
    "for i in range(1, 11):\n",
    "    mul = num * i\n",
    "    print(num,\"*\",i,\"=\", mul)"
   ]
  },
  {
   "cell_type": "code",
   "execution_count": null,
   "id": "019cbc96-2079-4991-a89e-07895efba66f",
   "metadata": {},
   "outputs": [],
   "source": []
  }
 ],
 "metadata": {
  "kernelspec": {
   "display_name": "Python 3 (ipykernel)",
   "language": "python",
   "name": "python3"
  },
  "language_info": {
   "codemirror_mode": {
    "name": "ipython",
    "version": 3
   },
   "file_extension": ".py",
   "mimetype": "text/x-python",
   "name": "python",
   "nbconvert_exporter": "python",
   "pygments_lexer": "ipython3",
   "version": "3.10.8"
  }
 },
 "nbformat": 4,
 "nbformat_minor": 5
}
